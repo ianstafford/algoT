{
 "cells": [
  {
   "cell_type": "code",
   "execution_count": 4,
   "metadata": {},
   "outputs": [],
   "source": [
    "# Importing the necesssary modules\n",
    "import pandas  as pd\n",
    "from pandas import Timedelta\n",
    "import matplotlib.pyplot as plt\n",
    "import seaborn as sns \n",
    "%matplotlib inline\n",
    "sns.set()\n",
    "\n",
    "from Backtest import * # Local Import"
   ]
  },
  {
   "cell_type": "code",
   "execution_count": 5,
   "metadata": {},
   "outputs": [
    {
     "data": {
      "text/html": [
       "<div>\n",
       "<style scoped>\n",
       "    .dataframe tbody tr th:only-of-type {\n",
       "        vertical-align: middle;\n",
       "    }\n",
       "\n",
       "    .dataframe tbody tr th {\n",
       "        vertical-align: top;\n",
       "    }\n",
       "\n",
       "    .dataframe thead th {\n",
       "        text-align: right;\n",
       "    }\n",
       "</style>\n",
       "<table border=\"1\" class=\"dataframe\">\n",
       "  <thead>\n",
       "    <tr style=\"text-align: right;\">\n",
       "      <th></th>\n",
       "      <th>open</th>\n",
       "      <th>high</th>\n",
       "      <th>low</th>\n",
       "      <th>close</th>\n",
       "      <th>volume</th>\n",
       "    </tr>\n",
       "    <tr>\n",
       "      <th>timestamp</th>\n",
       "      <th></th>\n",
       "      <th></th>\n",
       "      <th></th>\n",
       "      <th></th>\n",
       "      <th></th>\n",
       "    </tr>\n",
       "  </thead>\n",
       "  <tbody>\n",
       "    <tr>\n",
       "      <th>2000-01-03</th>\n",
       "      <td>104.87</td>\n",
       "      <td>112.50</td>\n",
       "      <td>101.69</td>\n",
       "      <td>111.94</td>\n",
       "      <td>4783900</td>\n",
       "    </tr>\n",
       "    <tr>\n",
       "      <th>2000-01-04</th>\n",
       "      <td>108.25</td>\n",
       "      <td>110.62</td>\n",
       "      <td>101.19</td>\n",
       "      <td>102.50</td>\n",
       "      <td>4574800</td>\n",
       "    </tr>\n",
       "    <tr>\n",
       "      <th>2000-01-05</th>\n",
       "      <td>103.75</td>\n",
       "      <td>110.56</td>\n",
       "      <td>103.00</td>\n",
       "      <td>104.00</td>\n",
       "      <td>6949300</td>\n",
       "    </tr>\n",
       "    <tr>\n",
       "      <th>2000-01-06</th>\n",
       "      <td>106.12</td>\n",
       "      <td>107.00</td>\n",
       "      <td>95.00</td>\n",
       "      <td>95.00</td>\n",
       "      <td>6856900</td>\n",
       "    </tr>\n",
       "    <tr>\n",
       "      <th>2000-01-07</th>\n",
       "      <td>96.50</td>\n",
       "      <td>101.00</td>\n",
       "      <td>95.50</td>\n",
       "      <td>99.50</td>\n",
       "      <td>4113700</td>\n",
       "    </tr>\n",
       "  </tbody>\n",
       "</table>\n",
       "</div>"
      ],
      "text/plain": [
       "              open    high     low   close   volume\n",
       "timestamp                                          \n",
       "2000-01-03  104.87  112.50  101.69  111.94  4783900\n",
       "2000-01-04  108.25  110.62  101.19  102.50  4574800\n",
       "2000-01-05  103.75  110.56  103.00  104.00  6949300\n",
       "2000-01-06  106.12  107.00   95.00   95.00  6856900\n",
       "2000-01-07   96.50  101.00   95.50   99.50  4113700"
      ]
     },
     "execution_count": 5,
     "metadata": {},
     "output_type": "execute_result"
    }
   ],
   "source": [
    "# Preparing the data for use\n",
    "ohlcv = pd.read_csv('data/daily_AAPL.csv', parse_dates=['timestamp']).sort_values('timestamp').set_index('timestamp')\n",
    "ohlcv.head()\n",
    "# Ensure dataframe looks like this before feeding into Backtesting Object"
   ]
  },
  {
   "cell_type": "code",
   "execution_count": 10,
   "metadata": {},
   "outputs": [
    {
     "data": {
      "text/plain": [
       "{'duration_analyzed': '6741 days 00:00:00',\n",
       " 'number_of_trades': 4595,\n",
       " 'simple_return': '8.157393500000078 %',\n",
       " 'remaining_cash': 5.6435000000783475,\n",
       " 'owned_shares': 575.0,\n",
       " 'portfolio_value': 108157.39350000008}"
      ]
     },
     "execution_count": 10,
     "metadata": {},
     "output_type": "execute_result"
    }
   ],
   "source": [
    "#  Creating the backtesting Object (Single Line of Code !)\n",
    "sma = Backtest(ohlcv, algo=\"moving_average\", ini_cash=100000)\n",
    "\n",
    "#  Running the backtest\n",
    "sma.run_backtest(\"full_stakes\", None, \"full_stakes\", None)"
   ]
  },
  {
   "cell_type": "code",
   "execution_count": 17,
   "metadata": {},
   "outputs": [
    {
     "data": {
      "text/plain": [
       "{'duration_analyzed': '6741 days 00:00:00',\n",
       " 'number_of_trades': 4595,\n",
       " 'simple_return': '33.49306910000005 %',\n",
       " 'remaining_cash': 325.34910000003833,\n",
       " 'owned_shares': 708.0,\n",
       " 'portfolio_value': 133493.06910000005}"
      ]
     },
     "execution_count": 17,
     "metadata": {},
     "output_type": "execute_result"
    }
   ],
   "source": [
    "rsi = Backtest(ohlcv, algo=\"moving_average\", ini_cash=100000)\n",
    "rsi.run_backtest('percent_cash', 50, 'percent_shares', 5)"
   ]
  }
 ],
 "metadata": {
  "kernelspec": {
   "display_name": "Python [default]",
   "language": "python",
   "name": "python3"
  },
  "language_info": {
   "codemirror_mode": {
    "name": "ipython",
    "version": 3
   },
   "file_extension": ".py",
   "mimetype": "text/x-python",
   "name": "python",
   "nbconvert_exporter": "python",
   "pygments_lexer": "ipython3",
   "version": "3.6.5"
  }
 },
 "nbformat": 4,
 "nbformat_minor": 2
}
