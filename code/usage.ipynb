{
 "cells": [
  {
   "cell_type": "code",
   "execution_count": 8,
   "metadata": {},
   "outputs": [],
   "source": [
    "# Importing the necesssary modules\n",
    "\n",
    "import pandas  as pd\n",
    "from pandas import Timedelta\n",
    "\n",
    "%matplotlib inline\n",
    "import matplotlib.pyplot as plt\n",
    "plt.rcParams[\"figure.figsize\"] = (12, 9)\n",
    "\n",
    "import seaborn as sns\n",
    "sns.set()\n",
    "\n",
    "from Backtest import *"
   ]
  },
  {
   "cell_type": "code",
   "execution_count": 9,
   "metadata": {},
   "outputs": [
    {
     "data": {
      "text/html": [
       "<div>\n",
       "<style scoped>\n",
       "    .dataframe tbody tr th:only-of-type {\n",
       "        vertical-align: middle;\n",
       "    }\n",
       "\n",
       "    .dataframe tbody tr th {\n",
       "        vertical-align: top;\n",
       "    }\n",
       "\n",
       "    .dataframe thead th {\n",
       "        text-align: right;\n",
       "    }\n",
       "</style>\n",
       "<table border=\"1\" class=\"dataframe\">\n",
       "  <thead>\n",
       "    <tr style=\"text-align: right;\">\n",
       "      <th></th>\n",
       "      <th>open</th>\n",
       "      <th>high</th>\n",
       "      <th>low</th>\n",
       "      <th>close</th>\n",
       "      <th>volume</th>\n",
       "    </tr>\n",
       "    <tr>\n",
       "      <th>timestamp</th>\n",
       "      <th></th>\n",
       "      <th></th>\n",
       "      <th></th>\n",
       "      <th></th>\n",
       "      <th></th>\n",
       "    </tr>\n",
       "  </thead>\n",
       "  <tbody>\n",
       "    <tr>\n",
       "      <th>2017-01-03</th>\n",
       "      <td>115.80</td>\n",
       "      <td>116.3300</td>\n",
       "      <td>114.76</td>\n",
       "      <td>116.15</td>\n",
       "      <td>28781865</td>\n",
       "    </tr>\n",
       "    <tr>\n",
       "      <th>2017-01-04</th>\n",
       "      <td>115.85</td>\n",
       "      <td>116.5100</td>\n",
       "      <td>115.75</td>\n",
       "      <td>116.02</td>\n",
       "      <td>21118116</td>\n",
       "    </tr>\n",
       "    <tr>\n",
       "      <th>2017-01-05</th>\n",
       "      <td>115.92</td>\n",
       "      <td>116.8642</td>\n",
       "      <td>115.81</td>\n",
       "      <td>116.61</td>\n",
       "      <td>22193587</td>\n",
       "    </tr>\n",
       "    <tr>\n",
       "      <th>2017-01-06</th>\n",
       "      <td>116.78</td>\n",
       "      <td>118.1600</td>\n",
       "      <td>116.47</td>\n",
       "      <td>117.91</td>\n",
       "      <td>31751900</td>\n",
       "    </tr>\n",
       "    <tr>\n",
       "      <th>2017-01-09</th>\n",
       "      <td>117.95</td>\n",
       "      <td>119.4300</td>\n",
       "      <td>117.94</td>\n",
       "      <td>118.99</td>\n",
       "      <td>33561948</td>\n",
       "    </tr>\n",
       "  </tbody>\n",
       "</table>\n",
       "</div>"
      ],
      "text/plain": [
       "              open      high     low   close    volume\n",
       "timestamp                                             \n",
       "2017-01-03  115.80  116.3300  114.76  116.15  28781865\n",
       "2017-01-04  115.85  116.5100  115.75  116.02  21118116\n",
       "2017-01-05  115.92  116.8642  115.81  116.61  22193587\n",
       "2017-01-06  116.78  118.1600  116.47  117.91  31751900\n",
       "2017-01-09  117.95  119.4300  117.94  118.99  33561948"
      ]
     },
     "execution_count": 9,
     "metadata": {},
     "output_type": "execute_result"
    }
   ],
   "source": [
    "# Preparing the data for use\n",
    "ohlcv = pd.read_csv('data/daily_AAPL.csv', parse_dates=['timestamp']).sort_values('timestamp').set_index('timestamp')\n",
    "ohlcv = ohlcv['2017-01-01':'2018-01-01']\n",
    "ohlcv.head()\n",
    "# Ensure dataframe looks like this before feeding into Backtesting Object"
   ]
  },
  {
   "cell_type": "code",
   "execution_count": 10,
   "metadata": {},
   "outputs": [
    {
     "data": {
      "text/plain": [
       "{'duration_analyzed': '360 days 00:00:00',\n",
       " 'number_of_trades': 29,\n",
       " 'simple_return': '-2.858 %',\n",
       " 'remaining_cash': 12527.0,\n",
       " 'owned_shares': 500,\n",
       " 'portfolio_value': 97142.0}"
      ]
     },
     "execution_count": 10,
     "metadata": {},
     "output_type": "execute_result"
    }
   ],
   "source": [
    "sma = Backtest(ohlcv, algo=\"moving_average\", ini_cash=100000)\n",
    "sma.run_backtest(\"absolute\", 100, \"absolute\", 100)"
   ]
  },
  {
   "cell_type": "code",
   "execution_count": 11,
   "metadata": {},
   "outputs": [
    {
     "data": {
      "text/plain": [
       "{'duration_analyzed': '360 days 00:00:00',\n",
       " 'number_of_trades': 30,\n",
       " 'simple_return': '8.441 %',\n",
       " 'remaining_cash': 6903.0,\n",
       " 'owned_shares': 600,\n",
       " 'portfolio_value': 108441.0}"
      ]
     },
     "execution_count": 11,
     "metadata": {},
     "output_type": "execute_result"
    }
   ],
   "source": [
    "kalman = Backtest(ohlcv, algo=\"kalman\", ini_cash=100000)\n",
    "kalman.run_backtest(\"absolute\", 100, \"absolute\", 100)"
   ]
  },
  {
   "cell_type": "code",
   "execution_count": 12,
   "metadata": {},
   "outputs": [
    {
     "data": {
      "text/html": [
       "<div>\n",
       "<style scoped>\n",
       "    .dataframe tbody tr th:only-of-type {\n",
       "        vertical-align: middle;\n",
       "    }\n",
       "\n",
       "    .dataframe tbody tr th {\n",
       "        vertical-align: top;\n",
       "    }\n",
       "\n",
       "    .dataframe thead th {\n",
       "        text-align: right;\n",
       "    }\n",
       "</style>\n",
       "<table border=\"1\" class=\"dataframe\">\n",
       "  <thead>\n",
       "    <tr style=\"text-align: right;\">\n",
       "      <th></th>\n",
       "      <th>owned_shares</th>\n",
       "      <th>portfolio_value</th>\n",
       "      <th>remaining_cash</th>\n",
       "      <th>share_price</th>\n",
       "      <th>type</th>\n",
       "    </tr>\n",
       "    <tr>\n",
       "      <th>timestamp</th>\n",
       "      <th></th>\n",
       "      <th></th>\n",
       "      <th></th>\n",
       "      <th></th>\n",
       "      <th></th>\n",
       "    </tr>\n",
       "  </thead>\n",
       "  <tbody>\n",
       "    <tr>\n",
       "      <th>2017-03-29</th>\n",
       "      <td>100</td>\n",
       "      <td>100000.0</td>\n",
       "      <td>85632.0</td>\n",
       "      <td>143.68</td>\n",
       "      <td>buy</td>\n",
       "    </tr>\n",
       "    <tr>\n",
       "      <th>2017-03-30</th>\n",
       "      <td>200</td>\n",
       "      <td>100051.0</td>\n",
       "      <td>71213.0</td>\n",
       "      <td>144.19</td>\n",
       "      <td>buy</td>\n",
       "    </tr>\n",
       "    <tr>\n",
       "      <th>2017-03-31</th>\n",
       "      <td>300</td>\n",
       "      <td>99957.0</td>\n",
       "      <td>56841.0</td>\n",
       "      <td>143.72</td>\n",
       "      <td>buy</td>\n",
       "    </tr>\n",
       "    <tr>\n",
       "      <th>2017-04-03</th>\n",
       "      <td>400</td>\n",
       "      <td>99954.0</td>\n",
       "      <td>42470.0</td>\n",
       "      <td>143.71</td>\n",
       "      <td>buy</td>\n",
       "    </tr>\n",
       "    <tr>\n",
       "      <th>2017-04-04</th>\n",
       "      <td>500</td>\n",
       "      <td>99770.0</td>\n",
       "      <td>28145.0</td>\n",
       "      <td>143.25</td>\n",
       "      <td>buy</td>\n",
       "    </tr>\n",
       "  </tbody>\n",
       "</table>\n",
       "</div>"
      ],
      "text/plain": [
       "            owned_shares  portfolio_value  remaining_cash  share_price type\n",
       "timestamp                                                                  \n",
       "2017-03-29           100         100000.0         85632.0       143.68  buy\n",
       "2017-03-30           200         100051.0         71213.0       144.19  buy\n",
       "2017-03-31           300          99957.0         56841.0       143.72  buy\n",
       "2017-04-03           400          99954.0         42470.0       143.71  buy\n",
       "2017-04-04           500          99770.0         28145.0       143.25  buy"
      ]
     },
     "execution_count": 12,
     "metadata": {},
     "output_type": "execute_result"
    }
   ],
   "source": [
    "sma.trades_df.head()"
   ]
  },
  {
   "cell_type": "code",
   "execution_count": 13,
   "metadata": {},
   "outputs": [
    {
     "data": {
      "text/html": [
       "<div>\n",
       "<style scoped>\n",
       "    .dataframe tbody tr th:only-of-type {\n",
       "        vertical-align: middle;\n",
       "    }\n",
       "\n",
       "    .dataframe tbody tr th {\n",
       "        vertical-align: top;\n",
       "    }\n",
       "\n",
       "    .dataframe thead th {\n",
       "        text-align: right;\n",
       "    }\n",
       "</style>\n",
       "<table border=\"1\" class=\"dataframe\">\n",
       "  <thead>\n",
       "    <tr style=\"text-align: right;\">\n",
       "      <th></th>\n",
       "      <th>owned_shares</th>\n",
       "      <th>portfolio_value</th>\n",
       "      <th>remaining_cash</th>\n",
       "      <th>share_price</th>\n",
       "      <th>type</th>\n",
       "    </tr>\n",
       "    <tr>\n",
       "      <th>timestamp</th>\n",
       "      <th></th>\n",
       "      <th></th>\n",
       "      <th></th>\n",
       "      <th></th>\n",
       "      <th></th>\n",
       "    </tr>\n",
       "  </thead>\n",
       "  <tbody>\n",
       "    <tr>\n",
       "      <th>2017-03-29</th>\n",
       "      <td>100</td>\n",
       "      <td>100000.0</td>\n",
       "      <td>85632.0</td>\n",
       "      <td>143.68</td>\n",
       "      <td>buy</td>\n",
       "    </tr>\n",
       "    <tr>\n",
       "      <th>2017-03-30</th>\n",
       "      <td>200</td>\n",
       "      <td>100051.0</td>\n",
       "      <td>71213.0</td>\n",
       "      <td>144.19</td>\n",
       "      <td>buy</td>\n",
       "    </tr>\n",
       "    <tr>\n",
       "      <th>2017-03-31</th>\n",
       "      <td>300</td>\n",
       "      <td>99957.0</td>\n",
       "      <td>56841.0</td>\n",
       "      <td>143.72</td>\n",
       "      <td>buy</td>\n",
       "    </tr>\n",
       "    <tr>\n",
       "      <th>2017-04-03</th>\n",
       "      <td>400</td>\n",
       "      <td>99954.0</td>\n",
       "      <td>42470.0</td>\n",
       "      <td>143.71</td>\n",
       "      <td>buy</td>\n",
       "    </tr>\n",
       "    <tr>\n",
       "      <th>2017-04-04</th>\n",
       "      <td>500</td>\n",
       "      <td>99770.0</td>\n",
       "      <td>28145.0</td>\n",
       "      <td>143.25</td>\n",
       "      <td>buy</td>\n",
       "    </tr>\n",
       "  </tbody>\n",
       "</table>\n",
       "</div>"
      ],
      "text/plain": [
       "            owned_shares  portfolio_value  remaining_cash  share_price type\n",
       "timestamp                                                                  \n",
       "2017-03-29           100         100000.0         85632.0       143.68  buy\n",
       "2017-03-30           200         100051.0         71213.0       144.19  buy\n",
       "2017-03-31           300          99957.0         56841.0       143.72  buy\n",
       "2017-04-03           400          99954.0         42470.0       143.71  buy\n",
       "2017-04-04           500          99770.0         28145.0       143.25  buy"
      ]
     },
     "execution_count": 13,
     "metadata": {},
     "output_type": "execute_result"
    }
   ],
   "source": [
    "kalman.trades_df.head()"
   ]
  },
  {
   "cell_type": "code",
   "execution_count": 14,
   "metadata": {},
   "outputs": [
    {
     "data": {
      "image/png": "[encoded data removed]",
      "text/plain": [
       "<Figure size 864x648 with 1 Axes>"
      ]
     },
     "metadata": {},
     "output_type": "display_data"
    }
   ],
   "source": [
    "plt.plot(kalman.trades_df['portfolio_value'])\n",
    "plt.plot(sma.trades_df['portfolio_value'])\n",
    "plt.legend([\"Kalman\", \"SMA\"])\n",
    "plt.show()"
   ]
  }
 ],
 "metadata": {
  "kernelspec": {
   "display_name": "Python [default]",
   "language": "python",
   "name": "python3"
  },
  "language_info": {
   "codemirror_mode": {
    "name": "ipython",
    "version": 3
   },
   "file_extension": ".py",
   "mimetype": "text/x-python",
   "name": "python",
   "nbconvert_exporter": "python",
   "pygments_lexer": "ipython3",
   "version": "3.6.5"
  }
 },
 "nbformat": 4,
 "nbformat_minor": 2
}
