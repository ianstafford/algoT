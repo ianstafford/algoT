{
 "cells": [
  {
   "cell_type": "code",
   "execution_count": 1,
   "metadata": {},
   "outputs": [],
   "source": [
    "import pandas as pd\n",
    "import pickle\n",
    "import matplotlib\n",
    "import re\n",
    "from textblob import TextBlob\n",
    "\n",
    "%matplotlib inline"
   ]
  },
  {
   "cell_type": "code",
   "execution_count": 2,
   "metadata": {},
   "outputs": [],
   "source": [
    "news = pd.read_pickle(\"data/scraped/newsFinal.pkl\")\n",
    "aapl = pd.read_pickle(\"data/stocks/aaplFinal.pkl\")"
   ]
  },
  {
   "cell_type": "code",
   "execution_count": 3,
   "metadata": {
    "scrolled": false
   },
   "outputs": [
    {
     "name": "stdout",
     "output_type": "stream",
     "text": [
      "<class 'pandas.core.frame.DataFrame'>\n",
      "DatetimeIndex: 1693 entries, 2018-09-22 00:05:54 to 2018-11-06 15:18:29\n",
      "Data columns (total 8 columns):\n",
      "author         1646 non-null object\n",
      "content        1541 non-null object\n",
      "description    1693 non-null object\n",
      "publishedAt    1693 non-null object\n",
      "source         1693 non-null object\n",
      "title          1693 non-null object\n",
      "url            1693 non-null object\n",
      "urlToImage     1566 non-null object\n",
      "dtypes: object(8)\n",
      "memory usage: 119.0+ KB\n",
      "None\n",
      "<class 'pandas.core.frame.DataFrame'>\n",
      "DatetimeIndex: 31 entries, 2018-09-25 to 2018-11-06\n",
      "Data columns (total 7 columns):\n",
      "open         31 non-null float64\n",
      "high         31 non-null float64\n",
      "low          31 non-null float64\n",
      "close        31 non-null float64\n",
      "volume       31 non-null int64\n",
      "abschange    31 non-null float64\n",
      "relchange    31 non-null float64\n",
      "dtypes: float64(6), int64(1)\n",
      "memory usage: 1.9 KB\n",
      "None\n"
     ]
    }
   ],
   "source": [
    "print(news.info())\n",
    "print(aapl.info())"
   ]
  },
  {
   "cell_type": "code",
   "execution_count": 4,
   "metadata": {},
   "outputs": [],
   "source": [
    "aapl.drop(columns=[\"volume\"], inplace=True)\n",
    "news.drop(columns=['author','url','urlToImage','publishedAt','source','content'], inplace=True)"
   ]
  },
  {
   "cell_type": "code",
   "execution_count": 5,
   "metadata": {},
   "outputs": [],
   "source": [
    "desc=[]\n",
    "title=[]"
   ]
  },
  {
   "cell_type": "code",
   "execution_count": 6,
   "metadata": {},
   "outputs": [],
   "source": [
    "for index, row in news.iterrows():\n",
    "    desc.append(row['description'])\n",
    "    title.append(row['title'])"
   ]
  },
  {
   "cell_type": "code",
   "execution_count": 7,
   "metadata": {},
   "outputs": [],
   "source": [
    "REPLACE_NO_SPACE = re.compile(\"(\\.)|(\\;)|(\\:)|(\\!)|(\\')|(\\?)|(\\,)|(\\\")|(\\()|(\\))|(\\[)|(\\])\")\n",
    "REPLACE_WITH_SPACE = re.compile(\"(<br\\s*/><br\\s*/>)|(\\-)|(\\/) \\$\")"
   ]
  },
  {
   "cell_type": "code",
   "execution_count": 8,
   "metadata": {},
   "outputs": [],
   "source": [
    "def pre_process(content):\n",
    "    \n",
    "    content = [REPLACE_NO_SPACE.sub(\"\", line.lower()) for line in content if line]\n",
    "    content = [REPLACE_WITH_SPACE.sub(\" \", line.lower()) for line in content if line]\n",
    "    \n",
    "    return content\n",
    "\n",
    "def get_sentiment(content):\n",
    "    sentiment = []\n",
    "    for key, val in enumerate(content):\n",
    "        wiki = TextBlob(val)\n",
    "        sentiment.append(wiki.sentiment[0])\n",
    "    return sentiment"
   ]
  },
  {
   "cell_type": "code",
   "execution_count": 9,
   "metadata": {},
   "outputs": [],
   "source": [
    "desc = pre_process(desc)\n",
    "title = pre_process(title)"
   ]
  },
  {
   "cell_type": "code",
   "execution_count": 10,
   "metadata": {},
   "outputs": [],
   "source": [
    "news[\"title_score\"] = get_sentiment(title)\n",
    "news[\"desc_score\"] = get_sentiment(desc)"
   ]
  },
  {
   "cell_type": "code",
   "execution_count": 11,
   "metadata": {},
   "outputs": [
    {
     "data": {
      "text/html": [
       "<div>\n",
       "<style scoped>\n",
       "    .dataframe tbody tr th:only-of-type {\n",
       "        vertical-align: middle;\n",
       "    }\n",
       "\n",
       "    .dataframe tbody tr th {\n",
       "        vertical-align: top;\n",
       "    }\n",
       "\n",
       "    .dataframe thead th {\n",
       "        text-align: right;\n",
       "    }\n",
       "</style>\n",
       "<table border=\"1\" class=\"dataframe\">\n",
       "  <thead>\n",
       "    <tr style=\"text-align: right;\">\n",
       "      <th></th>\n",
       "      <th>title_score</th>\n",
       "      <th>desc_score</th>\n",
       "    </tr>\n",
       "    <tr>\n",
       "      <th>timestamp</th>\n",
       "      <th></th>\n",
       "      <th></th>\n",
       "    </tr>\n",
       "  </thead>\n",
       "  <tbody>\n",
       "    <tr>\n",
       "      <th>2018-09-21</th>\n",
       "      <td>0.157076</td>\n",
       "      <td>0.131759</td>\n",
       "    </tr>\n",
       "    <tr>\n",
       "      <th>2018-09-24</th>\n",
       "      <td>0.104930</td>\n",
       "      <td>0.110943</td>\n",
       "    </tr>\n",
       "    <tr>\n",
       "      <th>2018-09-25</th>\n",
       "      <td>0.111867</td>\n",
       "      <td>0.161199</td>\n",
       "    </tr>\n",
       "    <tr>\n",
       "      <th>2018-09-26</th>\n",
       "      <td>0.091782</td>\n",
       "      <td>0.063646</td>\n",
       "    </tr>\n",
       "    <tr>\n",
       "      <th>2018-09-27</th>\n",
       "      <td>0.092848</td>\n",
       "      <td>0.207833</td>\n",
       "    </tr>\n",
       "  </tbody>\n",
       "</table>\n",
       "</div>"
      ],
      "text/plain": [
       "            title_score  desc_score\n",
       "timestamp                          \n",
       "2018-09-21     0.157076    0.131759\n",
       "2018-09-24     0.104930    0.110943\n",
       "2018-09-25     0.111867    0.161199\n",
       "2018-09-26     0.091782    0.063646\n",
       "2018-09-27     0.092848    0.207833"
      ]
     },
     "execution_count": 11,
     "metadata": {},
     "output_type": "execute_result"
    }
   ],
   "source": [
    "news.drop(columns=[\"title\",\"description\"], inplace=True)\n",
    "news = news.resample('B').mean()\n",
    "news.head()"
   ]
  },
  {
   "cell_type": "code",
   "execution_count": 12,
   "metadata": {},
   "outputs": [],
   "source": [
    "news.to_pickle(\"data/sentiment.pkl\")"
   ]
  },
  {
   "cell_type": "code",
   "execution_count": 14,
   "metadata": {},
   "outputs": [],
   "source": [
    "combined = pd.merge(news, aapl, how='inner', on=\"timestamp\")\n",
    "combined.to_pickle(\"data/final.pkl\")"
   ]
  }
 ],
 "metadata": {
  "kernelspec": {
   "display_name": "Python [default]",
   "language": "python",
   "name": "python3"
  },
  "language_info": {
   "codemirror_mode": {
    "name": "ipython",
    "version": 3
   },
   "file_extension": ".py",
   "mimetype": "text/x-python",
   "name": "python",
   "nbconvert_exporter": "python",
   "pygments_lexer": "ipython3",
   "version": "3.6.5"
  }
 },
 "nbformat": 4,
 "nbformat_minor": 2
}
