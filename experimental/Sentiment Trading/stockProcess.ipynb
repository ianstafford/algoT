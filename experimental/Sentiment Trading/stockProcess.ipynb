{
 "cells": [
  {
   "cell_type": "code",
   "execution_count": 21,
   "metadata": {},
   "outputs": [],
   "source": [
    "import pandas as pd\n",
    "from sklearn.preprocessing import StandardScaler\n",
    "import matplotlib.pyplot as plt"
   ]
  },
  {
   "cell_type": "code",
   "execution_count": 16,
   "metadata": {},
   "outputs": [
    {
     "name": "stdout",
     "output_type": "stream",
     "text": [
      "<class 'pandas.core.frame.DataFrame'>\n",
      "DatetimeIndex: 1693 entries, 2018-09-22 00:05:54 to 2018-11-06 15:18:29\n",
      "Data columns (total 8 columns):\n",
      "author         1646 non-null object\n",
      "content        1541 non-null object\n",
      "description    1693 non-null object\n",
      "publishedAt    1693 non-null object\n",
      "source         1693 non-null object\n",
      "title          1693 non-null object\n",
      "url            1693 non-null object\n",
      "urlToImage     1566 non-null object\n",
      "dtypes: object(8)\n",
      "memory usage: 119.0+ KB\n"
     ]
    }
   ],
   "source": [
    "news = pd.read_pickle(\"data/scraped/newsFinal.pkl\") # Read from the disk\n",
    "news.info()"
   ]
  },
  {
   "cell_type": "code",
   "execution_count": 17,
   "metadata": {},
   "outputs": [],
   "source": [
    "start = news.index.min()\n",
    "end = news.index.max()"
   ]
  },
  {
   "cell_type": "code",
   "execution_count": 18,
   "metadata": {},
   "outputs": [
    {
     "name": "stdout",
     "output_type": "stream",
     "text": [
      "<class 'pandas.core.frame.DataFrame'>\n",
      "DatetimeIndex: 32 entries, 2018-09-24 to 2018-11-06\n",
      "Data columns (total 5 columns):\n",
      "open      32 non-null float64\n",
      "high      32 non-null float64\n",
      "low       32 non-null float64\n",
      "close     32 non-null float64\n",
      "volume    32 non-null int64\n",
      "dtypes: float64(4), int64(1)\n",
      "memory usage: 1.5 KB\n"
     ]
    }
   ],
   "source": [
    "aapl = pd.read_csv(\"data/stocks/daily_AAPL.csv\", parse_dates=[\"timestamp\"]).sort_values(\"timestamp\").set_index(\"timestamp\")\n",
    "aapl = aapl[start:end]\n",
    "aapl.info()"
   ]
  },
  {
   "cell_type": "code",
   "execution_count": 19,
   "metadata": {},
   "outputs": [],
   "source": [
    "aapl['abschange'] = aapl['close'].diff()\n",
    "aapl['relchange'] = aapl['abschange'] / aapl['close'].shift()\n",
    "aapl = aapl[1:]"
   ]
  },
  {
   "cell_type": "code",
   "execution_count": 26,
   "metadata": {},
   "outputs": [],
   "source": [
    "aapl.to_pickle(\"data/stocks/aaplFinal.pkl\")"
   ]
  },
  {
   "cell_type": "code",
   "execution_count": 20,
   "metadata": {},
   "outputs": [
    {
     "data": {
      "text/plain": [
       "array([[ 3.97978758e-01,  3.90437430e-01],\n",
       "       [-2.49313075e-01, -2.53508983e-01],\n",
       "       [ 1.03710287e+00,  1.03005330e+00],\n",
       "       [ 2.73421024e-01,  2.63107750e-01],\n",
       "       [ 4.22481919e-01,  4.08105454e-01],\n",
       "       [ 5.24578423e-01,  5.05104043e-01],\n",
       "       [ 6.81807038e-01,  6.52735286e-01],\n",
       "       [-7.20998922e-01, -6.86260257e-01],\n",
       "       [-6.43405579e-01, -6.25402515e-01],\n",
       "       [ 5.92818408e-03,  6.90264539e-04],\n",
       "       [ 7.45106871e-01,  7.28574869e-01],\n",
       "       [-2.03395996e+00, -1.98005574e+00],\n",
       "       [-2.77900096e-01, -2.92294435e-01],\n",
       "       [ 1.67622698e+00,  1.71273392e+00],\n",
       "       [-8.57808237e-01, -8.57515331e-01],\n",
       "       [ 1.09019305e+00,  1.09691431e+00],\n",
       "       [-8.39167392e-02, -8.94619786e-02],\n",
       "       [-9.43569300e-01, -9.46983120e-01],\n",
       "       [ 7.83903542e-01,  7.90532663e-01],\n",
       "       [ 3.85727178e-01,  3.80049578e-01],\n",
       "       [ 5.36830003e-01,  5.29327774e-01],\n",
       "       [-1.44792603e+00, -1.43884502e+00],\n",
       "       [ 1.07385761e+00,  1.09064170e+00],\n",
       "       [-6.02566978e-01, -6.11665054e-01],\n",
       "       [-7.16915062e-01, -7.39790689e-01],\n",
       "       [ 3.28553136e-01,  3.29831716e-01],\n",
       "       [ 1.24742167e+00,  1.27827402e+00],\n",
       "       [ 7.98197053e-01,  7.96033168e-01],\n",
       "       [-2.89769638e+00, -2.88044391e+00],\n",
       "       [-1.09058827e+00, -1.17269070e+00],\n",
       "       [ 5.57249304e-01,  5.91770479e-01]])"
      ]
     },
     "execution_count": 20,
     "metadata": {},
     "output_type": "execute_result"
    }
   ],
   "source": [
    "scaler = StandardScaler()\n",
    "scaler.fit_transform(aapl[[\"abschange\", \"relchange\"]])"
   ]
  }
 ],
 "metadata": {
  "kernelspec": {
   "display_name": "Python 3",
   "language": "python",
   "name": "python3"
  },
  "language_info": {
   "codemirror_mode": {
    "name": "ipython",
    "version": 3
   },
   "file_extension": ".py",
   "mimetype": "text/x-python",
   "name": "python",
   "nbconvert_exporter": "python",
   "pygments_lexer": "ipython3",
   "version": "3.5.5"
  }
 },
 "nbformat": 4,
 "nbformat_minor": 2
}
