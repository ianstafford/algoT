{
 "cells": [
  {
   "cell_type": "code",
   "execution_count": 5,
   "metadata": {},
   "outputs": [],
   "source": [
    "import pandas as pd\n",
    "import nltk\n",
    "from textblob import TextBlob\n",
    "from newsapi import NewsApiClient\n",
    "\n",
    "newsapi = NewsApiClient(api_key='6d5710e6df584e2b92a580dee663d6bd') # Private API Key\n",
    "\n",
    "# Credits to https://newsapi.org for providing free limited access to developers"
   ]
  },
  {
   "cell_type": "code",
   "execution_count": 6,
   "metadata": {},
   "outputs": [],
   "source": [
    "# Run to scrape and store data (1 time use) (change to and from accordingly)\n",
    "\n",
    "articles = [] # List to store all artcles\n",
    "for i in range(1, 51):\n",
    "    all_articles = newsapi.get_everything(q=\"apple AND (aapl OR AAPL OR iphone)\",\n",
    "                                          sources=\"bbc-news,the-verge,ars-technica,business-insider,cnn,google-news,financial-times,reuters,techcrunch,wired,the-wall-street-journal\",\n",
    "                                          language=\"en\",\n",
    "                                          sort_by=\"popularity\",\n",
    "                                          page=i\n",
    "                                         )\n",
    "    articles += all_articles['articles'] # Looping through result pages, appending to the list"
   ]
  },
  {
   "cell_type": "code",
   "execution_count": 7,
   "metadata": {},
   "outputs": [
    {
     "name": "stdout",
     "output_type": "stream",
     "text": [
      "(693, 8)\n"
     ]
    }
   ],
   "source": [
    "tsd = pd.DataFrame(articles) # List converted to dataframe\n",
    "print(tsd.shape)"
   ]
  },
  {
   "cell_type": "code",
   "execution_count": 8,
   "metadata": {},
   "outputs": [],
   "source": [
    "tsd.to_pickle(\"data\\scraped\\Oct06toNov06.pkl\") # Stored to Disk"
   ]
  }
 ],
 "metadata": {
  "kernelspec": {
   "display_name": "Python 3",
   "language": "python",
   "name": "python3"
  },
  "language_info": {
   "codemirror_mode": {
    "name": "ipython",
    "version": 3
   },
   "file_extension": ".py",
   "mimetype": "text/x-python",
   "name": "python",
   "nbconvert_exporter": "python",
   "pygments_lexer": "ipython3",
   "version": "3.5.5"
  }
 },
 "nbformat": 4,
 "nbformat_minor": 2
}
