{
 "cells": [
  {
   "cell_type": "code",
   "execution_count": 92,
   "metadata": {},
   "outputs": [],
   "source": [
    "import pandas as pd\n",
    "from newsapi import NewsApiClient\n",
    "\n",
    "newsapi = NewsApiClient(api_key='6d5710e6df584e2b92a580dee663d6bd') # Private API Key\n",
    "\n",
    "# Credits to https://newsapi.org for providing free limited access to developers"
   ]
  },
  {
   "cell_type": "code",
   "execution_count": 93,
   "metadata": {},
   "outputs": [],
   "source": [
    "articles = [] # List to store all artcles\n",
    "for i in range(1, 51):\n",
    "    all_articles = newsapi.get_everything(q='aapl OR apple OR iphone',\n",
    "                                          sources='bbc-news,the-verge,ars-technica,business-insider,cnn,google-news',\n",
    "                                          from_param='2018-09-22',\n",
    "                                          to='2018-10-22',\n",
    "                                          language='en',\n",
    "                                          sort_by='relevancy',\n",
    "                                          page=i\n",
    "                                         )\n",
    "    articles += all_articles['articles'] # Looping through result pages, appending to the list"
   ]
  },
  {
   "cell_type": "code",
   "execution_count": 94,
   "metadata": {},
   "outputs": [
    {
     "data": {
      "text/plain": [
       "1000"
      ]
     },
     "execution_count": 94,
     "metadata": {},
     "output_type": "execute_result"
    }
   ],
   "source": [
    "len(articles) # Maximum number of articles scraped (1000 Limit)"
   ]
  },
  {
   "cell_type": "code",
   "execution_count": 95,
   "metadata": {},
   "outputs": [
    {
     "data": {
      "text/plain": [
       "('2018-10-16T21:01:56Z',\n",
       " 'This handy case could fix the most annoying parts of the newest iPhones (AAPL)',\n",
       " 'Blaudio is releasing an iPhone case that lets you plug in your headphones and charge your phone at the same time. After Apple removed the headphone jack with the iPhone 7, many users were annoyed that they could no longer have headphones plugged in and charge…',\n",
       " \"One of the most groan-worthy features with modern phones is the lack of a headphone jack. Ever since Apple decided to get rid of the 3.5mm audio jack with the iPhone 7, most other phone manufacturers have followed suit. Indeed, Apple's newest iPhones, the iPh… [+1249 chars]\")"
      ]
     },
     "execution_count": 95,
     "metadata": {},
     "output_type": "execute_result"
    }
   ],
   "source": [
    "(\n",
    "    articles[0]['publishedAt'],\n",
    "    articles[0]['title'],\n",
    "    articles[0]['description'],\n",
    "    articles[0]['content']\n",
    ")"
   ]
  },
  {
   "cell_type": "code",
   "execution_count": 96,
   "metadata": {},
   "outputs": [
    {
     "data": {
      "text/plain": [
       "(1000, 8)"
      ]
     },
     "execution_count": 96,
     "metadata": {},
     "output_type": "execute_result"
    }
   ],
   "source": [
    "tsd = pd.DataFrame(articles) # List converted to dataframe\n",
    "tsd.shape"
   ]
  },
  {
   "cell_type": "code",
   "execution_count": 98,
   "metadata": {},
   "outputs": [],
   "source": [
    "tsd.to_pickle(\"scraped\\Sep22toOct22.pkl\") # Stored to Disk"
   ]
  },
  {
   "cell_type": "code",
   "execution_count": 102,
   "metadata": {},
   "outputs": [
    {
     "data": {
      "text/plain": [
       "(1000, 8)"
      ]
     },
     "execution_count": 102,
     "metadata": {},
     "output_type": "execute_result"
    }
   ],
   "source": [
    "df = pd.read_pickle(\"scraped\\Sep22toOct22.pkl\") # Read from the disk\n",
    "df.shape"
   ]
  }
 ],
 "metadata": {
  "kernelspec": {
   "display_name": "Python [conda root]",
   "language": "python",
   "name": "conda-root-py"
  },
  "language_info": {
   "codemirror_mode": {
    "name": "ipython",
    "version": 3
   },
   "file_extension": ".py",
   "mimetype": "text/x-python",
   "name": "python",
   "nbconvert_exporter": "python",
   "pygments_lexer": "ipython3",
   "version": "3.6.5"
  }
 },
 "nbformat": 4,
 "nbformat_minor": 2
}
