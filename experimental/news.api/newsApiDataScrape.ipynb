{
 "cells": [
  {
   "cell_type": "code",
   "execution_count": 45,
   "metadata": {},
   "outputs": [],
   "source": [
    "import pandas as pd\n",
    "import nltk\n",
    "from textblob import TextBlob\n",
    "from newsapi import NewsApiClient\n",
    "\n",
    "newsapi = NewsApiClient(api_key='6d5710e6df584e2b92a580dee663d6bd') # Private API Key\n",
    "\n",
    "# Credits to https://newsapi.org for providing free limited access to developers"
   ]
  },
  {
   "cell_type": "code",
   "execution_count": 34,
   "metadata": {},
   "outputs": [],
   "source": [
    "# Run to scrape and store data (1 time use) (change to from and to accordingly)\n",
    "\n",
    "# articles = [] # List to store all artcles\n",
    "# for i in range(1, 51):\n",
    "#     all_articles = newsapi.get_everything(q='aapl OR apple OR iphone',\n",
    "#                                           sources='bbc-news,the-verge,ars-technica,business-insider,cnn,google-news',\n",
    "#                                           from_param='2018-09-22',\n",
    "#                                           to='2018-10-22',\n",
    "#                                           language='en',\n",
    "#                                           sort_by='relevancy',\n",
    "#                                           page=i\n",
    "#                                          )\n",
    "#     articles += all_articles['articles'] # Looping through result pages, appending to the list\n",
    "# tsd = pd.DataFrame(articles) # List converted to dataframe\n",
    "# tsd.shape\n",
    "# tsd.to_pickle(\"scraped\\Sep22toOct22.pkl\") # Stored to Disk"
   ]
  },
  {
   "cell_type": "code",
   "execution_count": 40,
   "metadata": {},
   "outputs": [
    {
     "name": "stdout",
     "output_type": "stream",
     "text": [
      "<class 'pandas.core.frame.DataFrame'>\n",
      "DatetimeIndex: 1000 entries, 2018-09-22 00:05:54 to 2018-10-22 07:01:01\n",
      "Data columns (total 7 columns):\n",
      "author         980 non-null object\n",
      "content        888 non-null object\n",
      "description    1000 non-null object\n",
      "source         1000 non-null object\n",
      "title          1000 non-null object\n",
      "url            1000 non-null object\n",
      "urlToImage     910 non-null object\n",
      "dtypes: object(7)\n",
      "memory usage: 62.5+ KB\n"
     ]
    }
   ],
   "source": [
    "news = pd.read_pickle(\"scraped\\Sep22toOct22.pkl\") # Read from the disk\n",
    "news[\"publishedAt\"] = pd.to_datetime(news[\"publishedAt\"])\n",
    "news.sort_values(by=\"publishedAt\", inplace=True)\n",
    "news.set_index(\"publishedAt\", inplace=True)\n",
    "news.info()"
   ]
  },
  {
   "cell_type": "code",
   "execution_count": 36,
   "metadata": {},
   "outputs": [],
   "source": [
    "start = news.index.min()\n",
    "end = news.index.max()"
   ]
  },
  {
   "cell_type": "code",
   "execution_count": 37,
   "metadata": {},
   "outputs": [
    {
     "name": "stdout",
     "output_type": "stream",
     "text": [
      "<class 'pandas.core.frame.DataFrame'>\n",
      "DatetimeIndex: 21 entries, 2018-09-24 to 2018-10-22\n",
      "Data columns (total 5 columns):\n",
      "open      21 non-null float64\n",
      "high      21 non-null float64\n",
      "low       21 non-null float64\n",
      "close     21 non-null float64\n",
      "volume    21 non-null int64\n",
      "dtypes: float64(4), int64(1)\n",
      "memory usage: 1008.0 bytes\n"
     ]
    }
   ],
   "source": [
    "aapl = pd.read_csv(\"scraped\\daily_AAPL.csv\", parse_dates=[\"timestamp\"]).sort_values(\"timestamp\").set_index(\"timestamp\")\n",
    "aapl = aapl[start:end]\n",
    "aapl.info()"
   ]
  },
  {
   "cell_type": "code",
   "execution_count": 49,
   "metadata": {},
   "outputs": [
    {
     "data": {
      "text/plain": [
       "'The White House has drafted a text of a proposed executive order for President Donald Trump that would trigger an antitrust investigation into Google and Facebook, according to Bloomberg. The proposed text would order federal law enforcement to \"thoroughly in… [+2620 chars]'"
      ]
     },
     "execution_count": 49,
     "metadata": {},
     "output_type": "execute_result"
    }
   ],
   "source": [
    "news.iloc[1, 1]"
   ]
  }
 ],
 "metadata": {
  "kernelspec": {
   "display_name": "Python [conda root]",
   "language": "python",
   "name": "conda-root-py"
  },
  "language_info": {
   "codemirror_mode": {
    "name": "ipython",
    "version": 3
   },
   "file_extension": ".py",
   "mimetype": "text/x-python",
   "name": "python",
   "nbconvert_exporter": "python",
   "pygments_lexer": "ipython3",
   "version": "3.6.5"
  }
 },
 "nbformat": 4,
 "nbformat_minor": 2
}
